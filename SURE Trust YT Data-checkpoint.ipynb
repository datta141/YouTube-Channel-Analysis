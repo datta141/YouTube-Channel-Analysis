{
 "cells": [
  {
   "cell_type": "code",
   "execution_count": 1,
   "id": "288833c1",
   "metadata": {},
   "outputs": [],
   "source": [
    "# import necessary libraries\n",
    "import os\n",
    "from googleapiclient.discovery import build\n",
    "import pandas as pd"
   ]
  },
  {
   "cell_type": "code",
   "execution_count": 2,
   "id": "992f0343",
   "metadata": {},
   "outputs": [],
   "source": [
    "api_key = 'APIKey'\n",
    "channel_id = 'UCwA_77yune0silxR3ps0N2w'\n",
    "youtube = build(\"youtube\",  \"v3\",developerKey=api_key)"
   ]
  },
  {
   "cell_type": "code",
   "execution_count": 3,
   "id": "d9cd539e",
   "metadata": {},
   "outputs": [],
   "source": [
    "def get_channel_stats(youtube,channel_id):\n",
    "    request = youtube.channels().list(\n",
    "    part=\"snippet,contentDetails,statistics\",\n",
    "    id = channel_id)\n",
    "    response = request.execute()\n",
    "    return response"
   ]
  },
  {
   "cell_type": "code",
   "execution_count": 4,
   "id": "78402f3d",
   "metadata": {},
   "outputs": [
    {
     "data": {
      "text/plain": [
       "{'kind': 'youtube#channelListResponse',\n",
       " 'etag': 'kwHKOkqpCBAvoh8QMu2qLsi47J8',\n",
       " 'pageInfo': {'totalResults': 1, 'resultsPerPage': 5},\n",
       " 'items': [{'kind': 'youtube#channel',\n",
       "   'etag': '3Mj_Od0mxOsYflx4SVOcq3Ssf8Y',\n",
       "   'id': 'UCwA_77yune0silxR3ps0N2w',\n",
       "   'snippet': {'title': 'Sure Trust',\n",
       "    'description': \"SURE Trust is a journey from 3 students, 3 courses, and 3 trainers to 300 plus students, 30 plus courses and 30 plus trainers. SURE Trust was born on the 9th of July 2020, with Lord Hanuman's Blessings. When the founders went to the get the SURE Trust registered and as they were waiting for their turn to make payment in the registrar office, one monkey climbed on, sat on the founder's shoulder and put its hand on her head and got down. Thus, starting with the blessings of Lord Hanuman, today the initiative has grown to embrace many youth who are educated unemployed from rural areas; and the other educated youth from the underprivileged society for upgrading their skills in trending technologies, totally free of cost.\",\n",
       "    'customUrl': '@suretrust6855',\n",
       "    'publishedAt': '2021-07-29T05:12:12.440016Z',\n",
       "    'thumbnails': {'default': {'url': 'https://yt3.ggpht.com/3k2MgF1rYZkwsPqXMYv4UHbSv1yxuOED_ZQfUZZ5Qwpck4QFkH6NDP96ZQmGkzNDhrAmpb-93g=s88-c-k-c0x00ffffff-no-rj',\n",
       "      'width': 88,\n",
       "      'height': 88},\n",
       "     'medium': {'url': 'https://yt3.ggpht.com/3k2MgF1rYZkwsPqXMYv4UHbSv1yxuOED_ZQfUZZ5Qwpck4QFkH6NDP96ZQmGkzNDhrAmpb-93g=s240-c-k-c0x00ffffff-no-rj',\n",
       "      'width': 240,\n",
       "      'height': 240},\n",
       "     'high': {'url': 'https://yt3.ggpht.com/3k2MgF1rYZkwsPqXMYv4UHbSv1yxuOED_ZQfUZZ5Qwpck4QFkH6NDP96ZQmGkzNDhrAmpb-93g=s800-c-k-c0x00ffffff-no-rj',\n",
       "      'width': 800,\n",
       "      'height': 800}},\n",
       "    'localized': {'title': 'Sure Trust',\n",
       "     'description': \"SURE Trust is a journey from 3 students, 3 courses, and 3 trainers to 300 plus students, 30 plus courses and 30 plus trainers. SURE Trust was born on the 9th of July 2020, with Lord Hanuman's Blessings. When the founders went to the get the SURE Trust registered and as they were waiting for their turn to make payment in the registrar office, one monkey climbed on, sat on the founder's shoulder and put its hand on her head and got down. Thus, starting with the blessings of Lord Hanuman, today the initiative has grown to embrace many youth who are educated unemployed from rural areas; and the other educated youth from the underprivileged society for upgrading their skills in trending technologies, totally free of cost.\"}},\n",
       "   'contentDetails': {'relatedPlaylists': {'likes': '',\n",
       "     'uploads': 'UUwA_77yune0silxR3ps0N2w'}},\n",
       "   'statistics': {'viewCount': '7970',\n",
       "    'subscriberCount': '306',\n",
       "    'hiddenSubscriberCount': False,\n",
       "    'videoCount': '29'}}]}"
      ]
     },
     "execution_count": 4,
     "metadata": {},
     "output_type": "execute_result"
    }
   ],
   "source": [
    "get_channel_stats(youtube,channel_id)"
   ]
  },
  {
   "cell_type": "code",
   "execution_count": 7,
   "id": "a7b2d359",
   "metadata": {},
   "outputs": [],
   "source": [
    "def get_channel_stats(youtube,channel_id):\n",
    "        request = youtube.channels().list(\n",
    "                    part='snippet,contentDetails,statistics',\n",
    "                    id=channel_id)\n",
    "        response = request.execute()\n",
    "        data = dict(Channel_name = response['items'][0]['snippet']['title'],\n",
    "                   Subscribers = response['items'][0]['statistics']['subscriberCount'],\n",
    "                   Views = response['items'][0]['statistics']['viewCount'],\n",
    "                   Total_videos = response['items'][0]['statistics']['videoCount'])\n",
    "        return data"
   ]
  },
  {
   "cell_type": "code",
   "execution_count": 8,
   "id": "da355feb",
   "metadata": {},
   "outputs": [
    {
     "data": {
      "text/plain": [
       "{'Channel_name': 'Sure Trust',\n",
       " 'Subscribers': '306',\n",
       " 'Views': '7970',\n",
       " 'Total_videos': '29'}"
      ]
     },
     "execution_count": 8,
     "metadata": {},
     "output_type": "execute_result"
    }
   ],
   "source": [
    "get_channel_stats(youtube,channel_id)"
   ]
  },
  {
   "cell_type": "code",
   "execution_count": 16,
   "id": "2f2a7604",
   "metadata": {},
   "outputs": [
    {
     "name": "stdout",
     "output_type": "stream",
     "text": [
      "                                               Title        Published_date  \\\n",
      "0        SURETRUST- 11th Quarter Graduation Ceremony  2023-12-08T17:25:04Z   \n",
      "1              Introducing New Services to Community  2023-07-22T19:33:15Z   \n",
      "2                   Launching Women Empowerment Club  2023-07-22T19:30:10Z   \n",
      "3                SURE Trust 3rd anniversary Function  2023-07-10T06:23:13Z   \n",
      "4  Chatbot Video for its release by Smt. Lakshmi ...  2023-07-09T08:34:00Z   \n",
      "\n",
      "  Views Likes  \n",
      "0   361     1  \n",
      "1    62     2  \n",
      "2    39     1  \n",
      "3   800    23  \n",
      "4    48     1  \n"
     ]
    }
   ],
   "source": [
    "def get_videos_data(youtube, channel_id):\n",
    "    videos_data = []\n",
    "    request = youtube.playlistItems().list(\n",
    "        part=\"snippet\",\n",
    "        playlistId=\"UUwA_77yune0silxR3ps0N2w\"  # This is the uploads playlist ID for the channel\n",
    "    )\n",
    "    response = request.execute()\n",
    "    for item in response['items']:\n",
    "        video_id = item['snippet']['resourceId']['videoId']\n",
    "        video_data = get_video_stats(youtube, video_id)\n",
    "        videos_data.append(video_data)\n",
    "    return videos_data\n",
    "\n",
    "def get_video_stats(youtube, video_id):\n",
    "    request = youtube.videos().list(\n",
    "        part=\"snippet,statistics\",\n",
    "        id=video_id\n",
    "    )\n",
    "    response = request.execute()\n",
    "    video_data = {\n",
    "        'Title': response['items'][0]['snippet']['title'],\n",
    "        'Published_date': response['items'][0]['snippet']['publishedAt'],\n",
    "        'Views': response['items'][0]['statistics']['viewCount'],\n",
    "        'Likes': response['items'][0]['statistics']['likeCount'],\n",
    "        # You can add more fields as needed such as dislikes, comments, etc.\n",
    "    }\n",
    "    return video_data\n",
    "\n",
    "videos_data = get_videos_data(youtube, channel_id)\n",
    "videos_df = pd.DataFrame(videos_data)\n",
    "print(videos_df)"
   ]
  },
  {
   "cell_type": "code",
   "execution_count": 13,
   "id": "905ca652",
   "metadata": {},
   "outputs": [
    {
     "data": {
      "text/html": [
       "<div>\n",
       "<style scoped>\n",
       "    .dataframe tbody tr th:only-of-type {\n",
       "        vertical-align: middle;\n",
       "    }\n",
       "\n",
       "    .dataframe tbody tr th {\n",
       "        vertical-align: top;\n",
       "    }\n",
       "\n",
       "    .dataframe thead th {\n",
       "        text-align: right;\n",
       "    }\n",
       "</style>\n",
       "<table border=\"1\" class=\"dataframe\">\n",
       "  <thead>\n",
       "    <tr style=\"text-align: right;\">\n",
       "      <th></th>\n",
       "      <th>Title</th>\n",
       "      <th>Published_date</th>\n",
       "      <th>Views</th>\n",
       "      <th>Likes</th>\n",
       "    </tr>\n",
       "  </thead>\n",
       "  <tbody>\n",
       "    <tr>\n",
       "      <th>0</th>\n",
       "      <td>SURETRUST- 11th Quarter Graduation Ceremony</td>\n",
       "      <td>2023-12-08T17:25:04Z</td>\n",
       "      <td>361</td>\n",
       "      <td>1</td>\n",
       "    </tr>\n",
       "    <tr>\n",
       "      <th>1</th>\n",
       "      <td>Introducing New Services to Community</td>\n",
       "      <td>2023-07-22T19:33:15Z</td>\n",
       "      <td>62</td>\n",
       "      <td>2</td>\n",
       "    </tr>\n",
       "    <tr>\n",
       "      <th>2</th>\n",
       "      <td>Launching Women Empowerment Club</td>\n",
       "      <td>2023-07-22T19:30:10Z</td>\n",
       "      <td>39</td>\n",
       "      <td>1</td>\n",
       "    </tr>\n",
       "    <tr>\n",
       "      <th>3</th>\n",
       "      <td>SURE Trust 3rd anniversary Function</td>\n",
       "      <td>2023-07-10T06:23:13Z</td>\n",
       "      <td>800</td>\n",
       "      <td>23</td>\n",
       "    </tr>\n",
       "    <tr>\n",
       "      <th>4</th>\n",
       "      <td>Chatbot Video for its release by Smt. Lakshmi ...</td>\n",
       "      <td>2023-07-09T08:34:00Z</td>\n",
       "      <td>48</td>\n",
       "      <td>1</td>\n",
       "    </tr>\n",
       "  </tbody>\n",
       "</table>\n",
       "</div>"
      ],
      "text/plain": [
       "                                               Title        Published_date  \\\n",
       "0        SURETRUST- 11th Quarter Graduation Ceremony  2023-12-08T17:25:04Z   \n",
       "1              Introducing New Services to Community  2023-07-22T19:33:15Z   \n",
       "2                   Launching Women Empowerment Club  2023-07-22T19:30:10Z   \n",
       "3                SURE Trust 3rd anniversary Function  2023-07-10T06:23:13Z   \n",
       "4  Chatbot Video for its release by Smt. Lakshmi ...  2023-07-09T08:34:00Z   \n",
       "\n",
       "  Views Likes  \n",
       "0   361     1  \n",
       "1    62     2  \n",
       "2    39     1  \n",
       "3   800    23  \n",
       "4    48     1  "
      ]
     },
     "execution_count": 13,
     "metadata": {},
     "output_type": "execute_result"
    }
   ],
   "source": [
    "videos_df"
   ]
  },
  {
   "cell_type": "code",
   "execution_count": 19,
   "id": "e0f5f1b2",
   "metadata": {},
   "outputs": [
    {
     "name": "stdout",
     "output_type": "stream",
     "text": [
      "                                               Title        Published_date  \\\n",
      "0        SURETRUST- 11th Quarter Graduation Ceremony  2023-12-08T17:25:04Z   \n",
      "1              Introducing New Services to Community  2023-07-22T19:33:15Z   \n",
      "2                   Launching Women Empowerment Club  2023-07-22T19:30:10Z   \n",
      "3                SURE Trust 3rd anniversary Function  2023-07-10T06:23:13Z   \n",
      "4  Chatbot Video for its release by Smt. Lakshmi ...  2023-07-09T08:34:00Z   \n",
      "\n",
      "  Views Likes  Dislikes  \n",
      "0   361     1         0  \n",
      "1    62     2         0  \n",
      "2    39     1         0  \n",
      "3   800    23         0  \n",
      "4    48     1         0  \n"
     ]
    }
   ],
   "source": [
    "def get_video_stats(youtube, video_id):\n",
    "    request = youtube.videos().list(\n",
    "        part=\"snippet,statistics,contentDetails\",\n",
    "        id=video_id\n",
    "    )\n",
    "    response = request.execute()\n",
    "    video_data = {\n",
    "        'Title': response['items'][0]['snippet']['title'],\n",
    "        'Published_date': response['items'][0]['snippet']['publishedAt'],\n",
    "        'Views': response['items'][0]['statistics']['viewCount'],\n",
    "        'Likes': response['items'][0]['statistics'].get('likeCount', 0),  # Default to 0 if 'likeCount' is missing\n",
    "        'Dislikes': response['items'][0]['statistics'].get('dislikeCount', 0),  # Default to 0 if 'dislikeCount' is missing\n",
    "       \n",
    "    }\n",
    "    return video_data\n",
    "\n",
    "videos_data = get_videos_data(youtube, channel_id)\n",
    "videos_df = pd.DataFrame(videos_data)\n",
    "print(videos_df)\n"
   ]
  },
  {
   "cell_type": "code",
   "execution_count": 20,
   "id": "59ca7f63",
   "metadata": {},
   "outputs": [
    {
     "data": {
      "text/html": [
       "<div>\n",
       "<style scoped>\n",
       "    .dataframe tbody tr th:only-of-type {\n",
       "        vertical-align: middle;\n",
       "    }\n",
       "\n",
       "    .dataframe tbody tr th {\n",
       "        vertical-align: top;\n",
       "    }\n",
       "\n",
       "    .dataframe thead th {\n",
       "        text-align: right;\n",
       "    }\n",
       "</style>\n",
       "<table border=\"1\" class=\"dataframe\">\n",
       "  <thead>\n",
       "    <tr style=\"text-align: right;\">\n",
       "      <th></th>\n",
       "      <th>Title</th>\n",
       "      <th>Published_date</th>\n",
       "      <th>Views</th>\n",
       "      <th>Likes</th>\n",
       "      <th>Dislikes</th>\n",
       "    </tr>\n",
       "  </thead>\n",
       "  <tbody>\n",
       "    <tr>\n",
       "      <th>0</th>\n",
       "      <td>SURETRUST- 11th Quarter Graduation Ceremony</td>\n",
       "      <td>2023-12-08T17:25:04Z</td>\n",
       "      <td>361</td>\n",
       "      <td>1</td>\n",
       "      <td>0</td>\n",
       "    </tr>\n",
       "    <tr>\n",
       "      <th>1</th>\n",
       "      <td>Introducing New Services to Community</td>\n",
       "      <td>2023-07-22T19:33:15Z</td>\n",
       "      <td>62</td>\n",
       "      <td>2</td>\n",
       "      <td>0</td>\n",
       "    </tr>\n",
       "    <tr>\n",
       "      <th>2</th>\n",
       "      <td>Launching Women Empowerment Club</td>\n",
       "      <td>2023-07-22T19:30:10Z</td>\n",
       "      <td>39</td>\n",
       "      <td>1</td>\n",
       "      <td>0</td>\n",
       "    </tr>\n",
       "    <tr>\n",
       "      <th>3</th>\n",
       "      <td>SURE Trust 3rd anniversary Function</td>\n",
       "      <td>2023-07-10T06:23:13Z</td>\n",
       "      <td>800</td>\n",
       "      <td>23</td>\n",
       "      <td>0</td>\n",
       "    </tr>\n",
       "    <tr>\n",
       "      <th>4</th>\n",
       "      <td>Chatbot Video for its release by Smt. Lakshmi ...</td>\n",
       "      <td>2023-07-09T08:34:00Z</td>\n",
       "      <td>48</td>\n",
       "      <td>1</td>\n",
       "      <td>0</td>\n",
       "    </tr>\n",
       "  </tbody>\n",
       "</table>\n",
       "</div>"
      ],
      "text/plain": [
       "                                               Title        Published_date  \\\n",
       "0        SURETRUST- 11th Quarter Graduation Ceremony  2023-12-08T17:25:04Z   \n",
       "1              Introducing New Services to Community  2023-07-22T19:33:15Z   \n",
       "2                   Launching Women Empowerment Club  2023-07-22T19:30:10Z   \n",
       "3                SURE Trust 3rd anniversary Function  2023-07-10T06:23:13Z   \n",
       "4  Chatbot Video for its release by Smt. Lakshmi ...  2023-07-09T08:34:00Z   \n",
       "\n",
       "  Views Likes  Dislikes  \n",
       "0   361     1         0  \n",
       "1    62     2         0  \n",
       "2    39     1         0  \n",
       "3   800    23         0  \n",
       "4    48     1         0  "
      ]
     },
     "execution_count": 20,
     "metadata": {},
     "output_type": "execute_result"
    }
   ],
   "source": [
    "videos_df"
   ]
  },
  {
   "cell_type": "code",
   "execution_count": null,
   "id": "2764a2d7",
   "metadata": {},
   "outputs": [],
   "source": []
  }
 ],
 "metadata": {
  "kernelspec": {
   "display_name": "Python 3 (ipykernel)",
   "language": "python",
   "name": "python3"
  },
  "language_info": {
   "codemirror_mode": {
    "name": "ipython",
    "version": 3
   },
   "file_extension": ".py",
   "mimetype": "text/x-python",
   "name": "python",
   "nbconvert_exporter": "python",
   "pygments_lexer": "ipython3",
   "version": "3.11.3"
  }
 },
 "nbformat": 4,
 "nbformat_minor": 5
}
